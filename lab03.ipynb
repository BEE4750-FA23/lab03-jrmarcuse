{
  "cells": [
    {
      "cell_type": "markdown",
      "id": "a4dbeeed-1482-4055-871b-4d7a2c2a511e",
      "metadata": {},
      "source": [
        "# BEE 4750 Lab 3: Linear Programming with JuMP\n",
        "\n",
        "**Name**: Jonathan Marcuse\n",
        "\n",
        "**ID**: jrm564\n",
        "\n",
        "> **Due Date**\n",
        ">\n",
        "> Friday, 10/13/23, 9:00pm\n",
        "\n",
        "## Setup\n",
        "\n",
        "The following code should go at the top of most Julia scripts; it will\n",
        "load the local package environment and install any needed packages. You\n",
        "will see this often and shouldn’t need to touch it."
      ]
    },
    {
      "cell_type": "code",
      "execution_count": 68,
      "id": "e4a7ead8",
      "metadata": {},
      "outputs": [
        {
          "name": "stderr",
          "output_type": "stream",
          "text": [
            "\u001b[32m\u001b[1m  Activating\u001b[22m\u001b[39m project at `~/Library/CloudStorage/OneDrive-CornellUniversity/Cornell Onedrive/Cornell Desktop/Fall2023/BEE4750/lab03-jrmarcuse`\n"
          ]
        }
      ],
      "source": [
        "import Pkg\n",
        "Pkg.activate(\".\")\n",
        "Pkg.instantiate()"
      ]
    },
    {
      "cell_type": "code",
      "execution_count": 69,
      "id": "bcb91547",
      "metadata": {},
      "outputs": [],
      "source": [
        "using JuMP # optimization modeling syntax\n",
        "using HiGHS # optimization solver\n",
        "using Plots # plotting"
      ]
    },
    {
      "cell_type": "markdown",
      "id": "e7c75237-e4a0-44dd-accc-3ba4b3a0b33e",
      "metadata": {},
      "source": [
        "## Overview\n",
        "\n",
        "In this lab, you will write and solve a resource allocation example\n",
        "using `JuMP.jl`. `JuMP.jl` provides an intuitive syntax for writing,\n",
        "solving, and querying optimization problems.\n",
        "\n",
        "For an example of using `JuMP.jl` to solve linear programs, see [the\n",
        "relevant tutorial on the class\n",
        "website](https://viveks.me/environmental-systems-analysis/tutorials/julia-jump.html).\n",
        "\n",
        "Free free to delete some of the illustrative cells and code blocks in\n",
        "your notebook as you go through and solve the lab problems…this might\n",
        "help reduce some potential confusion while grading about what your\n",
        "answer is."
      ]
    },
    {
      "cell_type": "markdown",
      "id": "b3357076-5bea-4fbb-a560-286b35fd52af",
      "metadata": {},
      "source": [
        "## Introduction\n",
        "\n",
        "Your task is to decide how much lumber to produce to maximize profit\n",
        "from wood sales. You can purchase wood from a managed forest, which\n",
        "consists of spruce (320,000 bf) and fir (720,000 bf). Spruce costs\n",
        "\\$0.12 per bf to purchase and fir costs \\$0.08 per bf.\n",
        "\n",
        "At the lumber mill, wood can be turned into plywood of various grades\n",
        "(see <a href=\"#tbl-inputs\" class=\"quarto-xref\">Table 1</a> for how much\n",
        "wood of each type is required for and the revenue from each grade). Any\n",
        "excess wood is sent to be recycled into particle board. This resource\n",
        "allocation problem is diagrammed in\n",
        "<a href=\"#fig-schematic\" class=\"quarto-xref\">Figure 1</a>.\n",
        "\n",
        "| Plywood Grade | Inputs (bf/bf plywood) | Revenue (\\$/1000 bf) |\n",
        "|:-------------:|:----------------------:|:--------------------:|\n",
        "|       1       |   0.5 (S) + 1.5 (F)    |         400          |\n",
        "|       2       |   1.0 (S) + 2.0 (F)    |         520          |\n",
        "|       3       |   1.5 (S) + 2.0 (F)    |         700          |\n",
        "\n",
        "Table 1: Wood inputs and revenue by plywood grade. S refers to spruce\n",
        "inputs, F fir inputs."
      ]
    },
    {
      "cell_type": "markdown",
      "id": "e64f4869-4c05-4097-9118-15c5583c58a3",
      "metadata": {},
      "source": [
        "<figure id=\"fig-schematic\">\n",
        "<img src=\"attachment:lab03_files/figure-ipynb/mermaid-figure-1.png\" />\n",
        "<figcaption>Figure 1: Flowchat of the resource allocation problem in\n",
        "this lab.</figcaption>\n",
        "</figure>\n",
        "\n",
        "## Problems (10 points)"
      ]
    },
    {
      "cell_type": "markdown",
      "id": "4909da23-bc65-4291-ac3a-b991ffd66163",
      "metadata": {},
      "source": [
        "### Problem 1: Problem Formulation (5 points)\n",
        "\n",
        "In this problem, you will go through the steps of formulating a linear\n",
        "program for this problem."
      ]
    },
    {
      "cell_type": "markdown",
      "id": "2071aef6-e8a9-4285-a5b9-59f65a25b5ac",
      "metadata": {},
      "source": [
        "#### Problem 1.1 (1 point)\n",
        "\n",
        "What are your decision variables? Clearly define your notation,\n",
        "including what variables you are using, what they mean, and what their\n",
        "units are."
      ]
    },
    {
      "cell_type": "markdown",
      "id": "6bc2998f",
      "metadata": {},
      "source": [
        "My decision variable are the amount of Spruce and the amount of Fir to wood that will be associated with each plywood grade of production. Spruce towards grade 1 plywood will be variable S[1], Spruce towards grade 2 will be S[2] and towards grade 3 will be S[3]. Fir for plywood grade 1 will be variable F[1], Fir for grade 2 plywood will be F[2] and for grade 3 it will be F[3] and they are in units of bf. All variables must be greater than or equal to 0 as you cannot purchase a negative amount of wood."
      ]
    },
    {
      "cell_type": "code",
      "execution_count": 70,
      "id": "e4f7663d",
      "metadata": {},
      "outputs": [
        {
          "data": {
            "text/plain": [
              "1-dimensional DenseAxisArray{VariableRef,1,...} with index sets:\n",
              "    Dimension 1, 1:3\n",
              "And data, a 3-element Vector{VariableRef}:\n",
              " F[1]\n",
              " F[2]\n",
              " F[3]"
            ]
          },
          "metadata": {},
          "output_type": "display_data"
        }
      ],
      "source": [
        "#First I will define the wood model\n",
        "wood_model = Model(HiGHS.Optimizer)\n",
        "\n",
        "#Next I will define the Spruce (S) and Fir (F) variables\n",
        "T=1:3\n",
        "@variable(wood_model,S[t in T] >= 0)\n",
        "@variable(wood_model,F[t in T] >= 0)"
      ]
    },
    {
      "cell_type": "code",
      "execution_count": 71,
      "id": "e5ab827a",
      "metadata": {},
      "outputs": [
        {
          "data": {
            "text/plain": [
              "6-element Vector{VariableRef}:\n",
              " S[1]\n",
              " S[2]\n",
              " S[3]\n",
              " F[1]\n",
              " F[2]\n",
              " F[3]"
            ]
          },
          "metadata": {},
          "output_type": "display_data"
        }
      ],
      "source": [
        "all_variables(wood_model)"
      ]
    },
    {
      "cell_type": "markdown",
      "id": "d314882c-8e58-4177-a740-676248d7106f",
      "metadata": {},
      "source": [
        "#### Problem 1.2 (1 point)\n",
        "\n",
        "Derive your objective function. Support your function with\n",
        "justifications and/or equations as necessary. You will not receive\n",
        "credit just for the function alone."
      ]
    },
    {
      "cell_type": "markdown",
      "id": "6c0891af",
      "metadata": {},
      "source": [
        "The objective function will be profits which involves adding up all the revenue from plywood sales and then subtracting the costs of purchasing the raw materials."
      ]
    },
    {
      "cell_type": "markdown",
      "id": "6709955d",
      "metadata": {},
      "source": [
        "0.5 bf of spruce and 1.5 bf of fir makes 1bf of grade 1 plywood, so therefore 500 bf of S and 1500 bf of F makes $400.\n",
        "\n",
        "For grade 1 for every 2000 bf in total it would be $400\n",
        "\n",
        "For grade 2 for every 3000 bf total it makes $520\n",
        "\n",
        "For grade 3 for every 3500 bf it makes $700"
      ]
    },
    {
      "cell_type": "code",
      "execution_count": 72,
      "id": "bddda629",
      "metadata": {},
      "outputs": [
        {
          "data": {
            "text/latex": [
              "$ 0.08000000000000002 S_{1} + 0.12000000000000001 F_{1} + 0.053333333333333344 S_{2} + 0.09333333333333334 F_{2} + 0.08000000000000002 S_{3} + 0.12000000000000001 F_{3} $"
            ],
            "text/plain": [
              "0.08000000000000002 S[1] + 0.12000000000000001 F[1] + 0.053333333333333344 S[2] + 0.09333333333333334 F[2] + 0.08000000000000002 S[3] + 0.12000000000000001 F[3]"
            ]
          },
          "metadata": {},
          "output_type": "display_data"
        }
      ],
      "source": [
        "@objective(wood_model, Max,400*((S[1]+F[1])/2000)\n",
        "+520*((S[2]+F[2])/3000)\n",
        "+700*((S[3]+F[3])/3500)\n",
        "-sum(S)*0.12-sum(F)*0.08)"
      ]
    },
    {
      "cell_type": "markdown",
      "id": "9bd0d34a-7aed-44b9-a665-80fcc1deb56b",
      "metadata": {},
      "source": [
        "#### Problem 1.3 (2 point)\n",
        "\n",
        "Derive any needed constraints. Support your function with justifications\n",
        "and/or equations as necessary. You will not receive credit just for the\n",
        "final constraints alone."
      ]
    },
    {
      "cell_type": "markdown",
      "id": "66d95344",
      "metadata": {},
      "source": [
        "Constraints will include the total amount of Spruce and Fir wood that is available to purchase from the woods. Other constraints include fixing the ratios of spruce to fir for each plywood grade making process."
      ]
    },
    {
      "cell_type": "code",
      "execution_count": 73,
      "id": "2aff8b36",
      "metadata": {},
      "outputs": [
        {
          "data": {
            "text/latex": [
              "$$ -1.3333333333333333 S_{3} + F_{3} = 0 $$"
            ],
            "text/plain": [
              "Grade3_ratio : -1.3333333333333333 S[3] + F[3] = 0"
            ]
          },
          "metadata": {},
          "output_type": "display_data"
        }
      ],
      "source": [
        "@constraint(wood_model,Spruce_Resources,sum(S)<=320000)\n",
        "@constraint(wood_model,Fir_Resources,sum(F)<=720000)\n",
        "@constraint(wood_model,Grade1_ratio, F[1]==3*S[1])\n",
        "@constraint(wood_model,Grade2_ratio, F[2]==2*S[2])\n",
        "@constraint(wood_model,Grade3_ratio, F[3]==(4/3)*S[3])\n"
      ]
    },
    {
      "cell_type": "markdown",
      "id": "b1a9dab5-6afb-4bf6-ad34-3c8979b4d07a",
      "metadata": {},
      "source": [
        "#### Problem 1.4 (1 point)\n",
        "\n",
        "Put this optimization problem in mathematical programming form. For an\n",
        "example of the syntax for this, see lines 82–91\n",
        "[here](https://github.com/vsrikrish/environmental-systems-analysis/blob/Fall23/tutorials/julia-jump.qmd)."
      ]
    },
    {
      "cell_type": "code",
      "execution_count": null,
      "id": "6e69e2de",
      "metadata": {},
      "outputs": [],
      "source": [
        "print(latex_formulation(wood_model))"
      ]
    },
    {
      "cell_type": "markdown",
      "id": "0613b891",
      "metadata": {},
      "source": [
        "$$ \\begin{aligned}\n",
        "\\max\\quad & 0.08000000000000002 S_{1} + 0.12000000000000001 F_{1} + 0.053333333333333344 S_{2} + 0.09333333333333334 F_{2} + 0.08000000000000002 S_{3} + 0.12000000000000001 F_{3}\\\\\n",
        "\\text{Subject to} \\quad & -3 S_{1} + F_{1} = 0\\\\\n",
        " & -2 S_{2} + F_{2} = 0\\\\\n",
        " & -1.3333333333333333 S_{3} + F_{3} = 0\\\\\n",
        " & S_{1} + S_{2} + S_{3} \\leq 320000\\\\\n",
        " & F_{1} + F_{2} + F_{3} \\leq 720000\\\\\n",
        " & S_{1} \\geq 0\\\\\n",
        " & S_{2} \\geq 0\\\\\n",
        " & S_{3} \\geq 0\\\\\n",
        " & F_{1} \\geq 0\\\\\n",
        " & F_{2} \\geq 0\\\\\n",
        " & F_{3} \\geq 0\\\\\n",
        "\\end{aligned} $$"
      ]
    },
    {
      "cell_type": "code",
      "execution_count": 75,
      "id": "1d7b42b0",
      "metadata": {},
      "outputs": [
        {
          "name": "stdout",
          "output_type": "stream",
          "text": [
            "Running HiGHS 1.5.3 [date: 1970-01-01, git hash: 45a127b78]\n",
            "Copyright (c) 2023 HiGHS under MIT licence terms\n",
            "Presolving model\n",
            "2 rows, 3 cols, 6 nonzeros\n",
            "2 rows, 3 cols, 6 nonzeros\n",
            "Presolve : Reductions: rows 2(-3); columns 3(-3); elements 6(-6)\n",
            "Solving the presolved LP\n",
            "Using EKK dual simplex solver - serial\n",
            "  Iteration        Objective     Infeasibilities num(sum)\n",
            "          0    -4.4666614604e-01 Ph1: 2(4.58333); Du: 3(0.446666) 0s\n",
            "          2    -1.1200000000e+05 Pr: 0(0) 0s\n",
            "Solving the original LP from the solution after postsolve\n",
            "Model   status      : Optimal\n",
            "Simplex   iterations: 2\n",
            "Objective value     :  1.1200000000e+05\n",
            "HiGHS run time      :          0.01\n"
          ]
        }
      ],
      "source": [
        "optimize!(wood_model)"
      ]
    },
    {
      "cell_type": "code",
      "execution_count": 76,
      "id": "fc32ee84",
      "metadata": {},
      "outputs": [
        {
          "data": {
            "text/plain": [
              "1-dimensional DenseAxisArray{Float64,1,...} with index sets:\n",
              "    Dimension 1, 1:3\n",
              "And data, a 3-element Vector{Float64}:\n",
              " 176000.00000000003\n",
              "     -0.0\n",
              " 143999.99999999997"
            ]
          },
          "metadata": {},
          "output_type": "display_data"
        }
      ],
      "source": [
        "value.(S)"
      ]
    },
    {
      "cell_type": "code",
      "execution_count": 77,
      "id": "c8bcde3f",
      "metadata": {},
      "outputs": [
        {
          "data": {
            "text/plain": [
              "1-dimensional DenseAxisArray{Float64,1,...} with index sets:\n",
              "    Dimension 1, 1:3\n",
              "And data, a 3-element Vector{Float64}:\n",
              " 528000.0000000001\n",
              "      0.0\n",
              " 191999.99999999994"
            ]
          },
          "metadata": {},
          "output_type": "display_data"
        }
      ],
      "source": [
        "value.(F)"
      ]
    },
    {
      "cell_type": "code",
      "execution_count": 78,
      "id": "2a77d300",
      "metadata": {},
      "outputs": [
        {
          "data": {
            "text/plain": [
              "112000.00000000001"
            ]
          },
          "metadata": {},
          "output_type": "display_data"
        }
      ],
      "source": [
        "objective_value(wood_model)"
      ]
    },
    {
      "cell_type": "markdown",
      "id": "5fb9c116-3b52-46da-87a2-160f3c98676e",
      "metadata": {},
      "source": [
        "### Problem 2: Find the Solution (5 points)"
      ]
    },
    {
      "cell_type": "markdown",
      "id": "c7336df3-bd09-4437-89ad-b9c493528017",
      "metadata": {},
      "source": [
        "#### Problem 2.1 (2 points)\n",
        "\n",
        "Code your linear program using `JuMP`. Feel free to consult [the\n",
        "website’s `JuMP`\n",
        "tutorial](https://viveks.me/environmental-systems-analysis/tutorials/julia-jump.html)\n",
        "for syntax help. The keys:"
      ]
    },
    {
      "cell_type": "markdown",
      "id": "7e6cc359-c7db-4806-a007-e269c7a0bfc9",
      "metadata": {},
      "source": [
        "1.  Initialize your model with a solver; in this case, we’ll use the\n",
        "    `HiGHS` solver, but there are other solvers listed here for\n",
        "    different types of problems, some of which are open and some of\n",
        "    which require a commercial license:\n",
        "    <https://jump.dev/JuMP.jl/stable/installation/#Supported-solvers>:\n",
        "\n",
        "    ``` julia\n",
        "    example_model = Model(HiGHS.Optimizer)\n",
        "    ```\n",
        "\n",
        "2.  Define variables with syntax like\n",
        "\n",
        "    ``` julia\n",
        "    @variable(example_model, 1 >= example_x >= 0)\n",
        "    ```\n",
        "\n",
        "    This will create a variable `example_x` which is constrained to be\n",
        "    between 0 and 1; you can leave off any of the bounds if a variable\n",
        "    is unbounded in a particular direction. You can also add a vector of\n",
        "    variables:\n",
        "\n",
        "    ``` julia\n",
        "    T = 1:3 # define set to index variables\n",
        "    @variable(example_model, 1 >= example_z[t in T] >= 0)\n",
        "    ```\n",
        "\n",
        "    which will create a vector of 3 variables `example_z[1]`, …,\n",
        "    `example_z[3]`, all of which are bounded between 0 and 1.\n",
        "\n",
        "3.  Add an objective with\n",
        "\n",
        "    ``` julia\n",
        "    @objective(example_model, Max, example_x + sum(example_z))\n",
        "    ```\n",
        "\n",
        "    which will add an objective to maximize (replace with `Min` to\n",
        "    minimize).\n",
        "\n",
        "4.  Add constraints:\n",
        "\n",
        "    ``` julia\n",
        "    @constraint(example_model, constraint1, 2example_x + 3*sum(example_z) <= 10)\n",
        "    @constraint(example_model, constraint2, 5example_x - example_z[1] <= 2)\n",
        "    ```\n",
        "\n",
        "    which will name the constraints `constraint1` and `constraint2` (you\n",
        "    should make yours more descriptive about what the constraint\n",
        "    actually is). The value of adding a name is to facilitate later\n",
        "    querying of shadow prices, which we will discuss later. You can also\n",
        "    add a vector of constraints which have similar structure or rely on\n",
        "    different elements of a data vector:\n",
        "\n",
        "    ``` julia\n",
        "    A = [2; 4]\n",
        "    b = [8; 12]\n",
        "    I = 1:2 # set indices for constraint\n",
        "    @constraint(example_model, vector_constraint[i in I], A[i] * sum(example_z) .<= b[i])\n",
        "    ```\n",
        "\n",
        "    You can also define matrices of constraints which depend on two\n",
        "    index sets by generalizing this syntax, e.g.\n",
        "\n",
        "    ``` julia\n",
        "    @constraint(example_model, matrix_constraint[i in I, j in J, ...])\n",
        "    ```\n",
        "\n",
        "    > **Tip**\n",
        "    >\n",
        "    > Specifying higher-dimensional vectors and matrices of variables\n",
        "    > and constraints will be important when we start looking at more\n",
        "    > complex applications, so don’t skip over this! You don’t want to\n",
        "    > manually enter thousands of constraints to ensure hourly\n",
        "    > electricity demand is met…\n",
        "\n",
        "    Finally, you can (and probably should) `print` your model to make\n",
        "    sure that you get something that looks like the equations that you\n",
        "    wrote down (in a notebook, this will be nicely rendered):\n",
        "\n",
        "    ``` julia\n",
        "    print(example_model)\n",
        "    ```\n",
        "\n",
        "    $$ \\begin{aligned}\n",
        "    \\max\\quad & example\\_x + example\\_z_{1} + example\\_z_{2} + example\\_z_{3}\\\\\n",
        "    \\text{Subject to} \\quad & 2 example\\_x + 3 example\\_z_{1} + 3 example\\_z_{2} + 3 example\\_z_{3} \\leq 10\\\\\n",
        "     & 5 example\\_x - example\\_z_{1} \\leq 2\\\\\n",
        "     & 2 example\\_z_{1} + 2 example\\_z_{2} + 2 example\\_z_{3} \\leq 8\\\\\n",
        "     & 4 example\\_z_{1} + 4 example\\_z_{2} + 4 example\\_z_{3} \\leq 12\\\\\n",
        "     & example\\_x \\geq 0\\\\\n",
        "     & example\\_z_{1} \\geq 0\\\\\n",
        "     & example\\_z_{2} \\geq 0\\\\\n",
        "     & example\\_z_{3} \\geq 0\\\\\n",
        "     & example\\_x \\leq 1\\\\\n",
        "     & example\\_z_{1} \\leq 1\\\\\n",
        "     & example\\_z_{2} \\leq 1\\\\\n",
        "     & example\\_z_{3} \\leq 1\\\\\n",
        "    \\end{aligned} $$\n",
        "\n",
        "    > **Define your entire model in one cell**\n",
        "    >\n",
        "    > `JuMP` has great and intuitive syntax, but it doesn’t like\n",
        "    > re-defining variables or constraints once they’ve been set. I\n",
        "    > recommend putting all of your model-definition code (starting from\n",
        "    > `model = Model(...)`) for a particular optimization problem in a\n",
        "    > single notebook cell, so you can re-set up the entire problem with\n",
        "    > a single click when you want to make a change."
      ]
    },
    {
      "cell_type": "markdown",
      "id": "de5ff570-e9ee-40c2-8784-2633d1a4dc0c",
      "metadata": {},
      "source": [
        "#### Problem 2.2 (1 points)\n",
        "\n",
        "Find the solution to your program and find the optimal values of the\n",
        "decision variables. Once you’ve defined your model, you can find the\n",
        "solution with \\`optimize!():"
      ]
    },
    {
      "cell_type": "code",
      "execution_count": 79,
      "id": "5ccbe21b",
      "metadata": {},
      "outputs": [
        {
          "ename": "UndefVarError",
          "evalue": "UndefVarError: `example_model` not defined",
          "output_type": "error",
          "traceback": [
            "UndefVarError: `example_model` not defined\n",
            "\n",
            "Stacktrace:\n",
            " [1] top-level scope\n",
            "   @ ~/Library/CloudStorage/OneDrive-CornellUniversity/Cornell Onedrive/Cornell Desktop/Fall2023/BEE4750/lab03-jrmarcuse/lab03.ipynb:1"
          ]
        }
      ],
      "source": [
        "optimize!(example_model)"
      ]
    },
    {
      "cell_type": "markdown",
      "id": "addb8efe-09e7-45cf-8e0d-e78a4f8f4397",
      "metadata": {},
      "source": [
        "> **What if I Get An Error?**\n",
        ">\n",
        "> If `optimize!()` throws an error, that’s usually a sign that something\n",
        "> is wrong with the formulation (for example, a variable might not be\n",
        "> bounded or a constraint might not be specified correctly) or a typo in\n",
        "> the model definition. Linear programs should be well behaved!\n",
        "\n",
        "To find the values of variables after optimizing, use `value.()` (the\n",
        "broadcasting ensures this will work for vector-valued variables as\n",
        "well):"
      ]
    },
    {
      "cell_type": "code",
      "execution_count": null,
      "id": "36b7a4d7",
      "metadata": {},
      "outputs": [],
      "source": [
        "value.(example_x)"
      ]
    },
    {
      "cell_type": "code",
      "execution_count": null,
      "id": "b0b97e16",
      "metadata": {},
      "outputs": [],
      "source": [
        "value.(example_z)"
      ]
    },
    {
      "cell_type": "markdown",
      "id": "7e141d56-9965-499c-a1d6-9fbc565f3abc",
      "metadata": {},
      "source": [
        "#### Problem 2.3 (1 point)\n",
        "\n",
        "How would your profit change if you could buy 1,000 additional bf of\n",
        "spruce? You can answer this by getting the shadow price of a particular\n",
        "variable with:"
      ]
    },
    {
      "cell_type": "code",
      "execution_count": null,
      "id": "c969ed7f",
      "metadata": {},
      "outputs": [],
      "source": [
        "shadow_price(constraint1) # this is why we named the constraints when we defined them"
      ]
    },
    {
      "cell_type": "markdown",
      "id": "0f60ecb1-3610-434e-af1f-02b19850827b",
      "metadata": {},
      "source": [
        "#### Problem 2.4 (1 point)\n",
        "\n",
        "Would you prefer to have 2,000 additional bf of spruce or 1,000\n",
        "additional bf of fir?"
      ]
    },
    {
      "cell_type": "code",
      "execution_count": 83,
      "id": "248f4541",
      "metadata": {},
      "outputs": [
        {
          "name": "stdout",
          "output_type": "stream",
          "text": [
            "Running HiGHS 1.5.3 [date: 1970-01-01, git hash: 45a127b78]\n",
            "Copyright (c) 2023 HiGHS under MIT licence terms\n",
            "Presolving model\n",
            "2 rows, 3 cols, 6 nonzeros\n",
            "2 rows, 3 cols, 6 nonzeros\n",
            "Presolve : Reductions: rows 2(-3); columns 3(-3); elements 6(-6)\n",
            "Solving the presolved LP\n",
            "Using EKK dual simplex solver - serial\n",
            "  Iteration        Objective     Infeasibilities num(sum)\n",
            "          0    -4.4666614604e-01 Ph1: 2(4.58333); Du: 3(0.446666) 0s\n",
            "          2    -1.1216000000e+05 Pr: 0(0) 0s\n",
            "Solving the original LP from the solution after postsolve\n",
            "Model   status      : Optimal\n",
            "Simplex   iterations: 2\n",
            "Objective value     :  1.1216000000e+05\n",
            "HiGHS run time      :          0.00\n"
          ]
        },
        {
          "data": {
            "text/plain": [
              "112160.00000000001"
            ]
          },
          "metadata": {},
          "output_type": "display_data"
        }
      ],
      "source": [
        "#First I will define the wood model\n",
        "extra_spruce_wood_model = Model(HiGHS.Optimizer)\n",
        "\n",
        "#Next I will define the Spruce (S) and Fir (F) variables\n",
        "T=1:3\n",
        "@variable(extra_spruce_wood_model,S[t in T] >= 0)\n",
        "@variable(extra_spruce_wood_model,F[t in T] >= 0)\n",
        "\n",
        "#define the objective function\n",
        "@objective(extra_spruce_wood_model, Max,400*((S[1]+F[1])/2000)\n",
        "+520*((S[2]+F[2])/3000)\n",
        "+700*((S[3]+F[3])/3500)\n",
        "-sum(S)*0.12-sum(F)*0.08)\n",
        "\n",
        "#define constraints\n",
        "@constraint(extra_spruce_wood_model,Spruce_Resources,sum(S)<=(320000+2000))\n",
        "    #added 2000 bf of spruce\n",
        "@constraint(extra_spruce_wood_model,Fir_Resources,sum(F)<=720000)\n",
        "@constraint(extra_spruce_wood_model,Grade1_ratio, F[1]==3*S[1])\n",
        "@constraint(extra_spruce_wood_model,Grade2_ratio, F[2]==2*S[2])\n",
        "@constraint(extra_spruce_wood_model,Grade3_ratio, F[3]==(4/3)*S[3])\n",
        "\n",
        "optimize!(extra_spruce_wood_model)\n",
        "\n",
        "return objective_value(extra_spruce_wood_model)\n"
      ]
    },
    {
      "cell_type": "code",
      "execution_count": 84,
      "id": "dcb75a66",
      "metadata": {},
      "outputs": [
        {
          "name": "stdout",
          "output_type": "stream",
          "text": [
            "Running HiGHS 1.5.3 [date: 1970-01-01, git hash: 45a127b78]\n",
            "Copyright (c) 2023 HiGHS under MIT licence terms\n",
            "Presolving model\n",
            "2 rows, 3 cols, 6 nonzeros\n",
            "2 rows, 3 cols, 6 nonzeros\n",
            "Presolve : Reductions: rows 2(-3); columns 3(-3); elements 6(-6)\n",
            "Solving the presolved LP\n",
            "Using EKK dual simplex solver - serial\n",
            "  Iteration        Objective     Infeasibilities num(sum)\n",
            "          0    -4.4666614604e-01 Ph1: 2(4.58333); Du: 3(0.446666) 0s\n",
            "          2    -1.1212000000e+05 Pr: 0(0) 0s\n",
            "Solving the original LP from the solution after postsolve\n",
            "Model   status      : Optimal\n",
            "Simplex   iterations: 2\n",
            "Objective value     :  1.1212000000e+05\n",
            "HiGHS run time      :          0.00\n"
          ]
        },
        {
          "data": {
            "text/plain": [
              "112120.00000000001"
            ]
          },
          "metadata": {},
          "output_type": "display_data"
        }
      ],
      "source": [
        "#First I will define the wood model\n",
        "extra_fir_wood_model = Model(HiGHS.Optimizer)\n",
        "\n",
        "#Next I will define the Spruce (S) and Fir (F) variables\n",
        "T=1:3\n",
        "@variable(extra_fir_wood_model,S[t in T] >= 0)\n",
        "@variable(extra_fir_wood_model,F[t in T] >= 0)\n",
        "\n",
        "#define the objective function\n",
        "@objective(extra_fir_wood_model, Max,400*((S[1]+F[1])/2000)\n",
        "+520*((S[2]+F[2])/3000)\n",
        "+700*((S[3]+F[3])/3500)\n",
        "-sum(S)*0.12-sum(F)*0.08)\n",
        "\n",
        "#define constraints\n",
        "@constraint(extra_fir_wood_model,Spruce_Resources,sum(S)<=320000)\n",
        "@constraint(extra_fir_wood_model,Fir_Resources,sum(F)<=(720000+1000))\n",
        "    #added 1000 bf of fir\n",
        "@constraint(extra_fir_wood_model,Grade1_ratio, F[1]==3*S[1])\n",
        "@constraint(extra_fir_wood_model,Grade2_ratio, F[2]==2*S[2])\n",
        "@constraint(extra_fir_wood_model,Grade3_ratio, F[3]==(4/3)*S[3])\n",
        "\n",
        "optimize!(extra_fir_wood_model)\n",
        "\n",
        "return objective_value(extra_fir_wood_model)\n"
      ]
    },
    {
      "cell_type": "markdown",
      "id": "f637bba7",
      "metadata": {},
      "source": [
        "I would prefer 2000 bf of extra Spruce as it optimizes with an objective value of $112,160 whereas an extra 1000 bf of extra fir results in $112,120 total revenue. The difference is an extra $40 if you choose the 2000 bf of spruce over 1000 bf of fir."
      ]
    },
    {
      "cell_type": "markdown",
      "id": "3931edc3-ebed-40fa-abc1-8611323d2dac",
      "metadata": {},
      "source": [
        "## References\n",
        "\n",
        "Put any consulted sources here, including classmates you worked with/who\n",
        "helped you."
      ]
    }
  ],
  "metadata": {
    "kernelspec": {
      "display_name": "Julia 1.9.2",
      "language": "julia",
      "name": "julia-1.9"
    },
    "language_info": {
      "file_extension": ".jl",
      "mimetype": "application/julia",
      "name": "julia",
      "version": "1.9.2"
    }
  },
  "nbformat": 4,
  "nbformat_minor": 5
}
